{
 "cells": [
  {
   "cell_type": "markdown",
   "metadata": {},
   "source": [
    "# Week 1: Day 3"
   ]
  },
  {
   "cell_type": "markdown",
   "metadata": {},
   "source": [
    "## Complete Pre-reading tasks\n",
    "\n",
    "1. [A Few Useful Things to Know about Machine Learning](http://homes.cs.washington.edu/~pedrod/papers/cacm12.pdf)"
   ]
  },
  {
   "cell_type": "markdown",
   "metadata": {},
   "source": [
    "## Post-class Reading List (Reference)\n",
    "\n",
    "\n",
    "### Data Pre-processing\n",
    "1. [Machine Learning Mastery](http://machinelearningmastery.com/supervised-and-unsupervised-machine-learning-algorithms/)\n",
    "* http://shahramabyari.com/2015/12/20/data-preparation-for-predictive-modeling-centering-scaling/\n",
    "* http://shahramabyari.com/2015/12/21/data-preparation-for-predictive-modeling-resolving-skewness/\n",
    "* https://www.analyticsvidhya.com/blog/2016/07/practical-guide-data-preprocessing-python-scikit-learn/\n",
    "\n",
    "### Categorical Encoding\n",
    "\n",
    "* https://github.com/scikit-learn-contrib/categorical-encoding\n",
    "* http://pbpython.com/categorical-encoding.html\n",
    "* https://www.kaggle.com/c/caterpillar-tube-pricing/discussion/15748\n",
    "* https://github.com/rouseguy/categorical_encoding\n",
    "* https://www.quora.com/What-are-the-best-practices-for-coding-a-categorical-variable-for-a-linear-regression\n",
    "* https://discuss.analyticsvidhya.com/t/dummy-encoding-for-ordered-categorical-data/14034/2\n",
    "* https://www.analyticsvidhya.com/blog/2015/11/easy-methods-deal-categorical-variables-predictive-modeling/\n",
    "* https://stackoverflow.com/questions/37292872/how-can-i-one-hot-encode-in-python\n",
    "* https://stackoverflow.com/questions/25343411/is-there-a-way-to-determine-the-order-of-labels-in-scikit-learns-labelencoder\n",
    "* https://stackoverflow.com/questions/21057621/sklearn-labelencoder-with-never-seen-before-values\n"
   ]
  }
 ],
 "metadata": {
  "anaconda-cloud": {},
  "kernelspec": {
   "display_name": "Python 2",
   "language": "python",
   "name": "python2"
  },
  "language_info": {
   "codemirror_mode": {
    "name": "ipython",
    "version": 2
   },
   "file_extension": ".py",
   "mimetype": "text/x-python",
   "name": "python",
   "nbconvert_exporter": "python",
   "pygments_lexer": "ipython2",
   "version": "2.7.13"
  },
  "widgets": {
   "state": {},
   "version": "1.1.2"
  }
 },
 "nbformat": 4,
 "nbformat_minor": 1
}
